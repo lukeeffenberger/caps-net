{
 "cells": [
  {
   "cell_type": "code",
   "execution_count": 2,
   "metadata": {
    "collapsed": false
   },
   "outputs": [
    {
     "name": "stderr",
     "output_type": "stream",
     "text": [
      "/home/luke/anaconda3/lib/python3.6/importlib/_bootstrap.py:205: RuntimeWarning: compiletime version 3.5 of module 'tensorflow.python.framework.fast_tensor_util' does not match runtime version 3.6\n",
      "  return f(*args, **kwds)\n"
     ]
    }
   ],
   "source": [
    "import numpy as np\n",
    "import tensorflow as tf"
   ]
  },
  {
   "cell_type": "code",
   "execution_count": 3,
   "metadata": {
    "collapsed": false
   },
   "outputs": [
    {
     "ename": "SyntaxError",
     "evalue": "unexpected EOF while parsing (<ipython-input-3-f6577198de42>, line 55)",
     "output_type": "error",
     "traceback": [
      "\u001b[0;36m  File \u001b[0;32m\"<ipython-input-3-f6577198de42>\"\u001b[0;36m, line \u001b[0;32m55\u001b[0m\n\u001b[0;31m    \u001b[0m\n\u001b[0m    ^\u001b[0m\n\u001b[0;31mSyntaxError\u001b[0m\u001b[0;31m:\u001b[0m unexpected EOF while parsing\n"
     ]
    }
   ],
   "source": [
    "class CapsLayer:\n",
    "    \n",
    "    ''' \n",
    "    This class will implement a capsule layer. Mainly the forward step.\n",
    "    As input it will take the number and dims of the capsules for \n",
    "    both layers.\n",
    "    Additionally the number of routing iterations that should\n",
    "    be used has to be set.\n",
    "    In the call function the input tensor will be given.\n",
    "    '''\n",
    "    \n",
    "    def __init__(self, count1, dim1, count2, dim2):\n",
    "        \n",
    "        # assigning the given parameters for the layers\n",
    "        self.count1 = count1\n",
    "        self.dim1 = dim1\n",
    "        self.count2 = count2\n",
    "        self.dim2 = dim2\n",
    "        self.rout_iter = rout_iter\n",
    "        \n",
    "        \n",
    "        \n",
    "    def __call__(self, input):\n",
    "        \n",
    "        ''' \n",
    "        This function will receive the input to the CapsLayer\n",
    "        and compute the output.\n",
    "        '''\n",
    "        \n",
    "        #CHECK IF INPUT SHAPE MATCHES WITH COUNT1 AND DIM1\n",
    "        #THROW ERROR OTHERWISE\n",
    "        \n",
    "        #get the batch size from the input\n",
    "        self.batch_size = input.get_shape()[0]\n",
    "        \n",
    "        #creating the weight tensor\n",
    "        self.weights = tf.Variable(\n",
    "                         tf.truncated_normal( \n",
    "                           shape = [count1, count2, dim1, dim2],\n",
    "                           stddv = 0.1\n",
    "                         )\n",
    "                       )\n",
    "        \n",
    "        \n",
    "        #compute the prediction vectors . matmul weigts inputs\n",
    "        prediction_vectors = \n",
    "               \n",
    "        return routing(prediction_vectors)\n",
    "    \n",
    "    \n",
    "    def routing(self, prediction_vectors):\n",
    "        \n",
    "        '''\n",
    "        Does the routing algorithm and outputs the capsules\n",
    "        of the next layer.\n",
    "        '''\n",
    "        \n",
    "        logits = tf.zeros(shape = [self.batch_size, \n",
    "                                   self.count1, \n",
    "                                   self.count2]\n",
    "                         )\n",
    "        \n",
    "        \n",
    "        for i in range(self.rout_iter):\n",
    "            \n",
    "            #comute the coupling coefficients\n",
    "            coupling_coeffs = tf.nn.softmax(logits)\n",
    "            coupling_coeffs = tf.expand_dims(coupling_coeffs, axis=-1)\n",
    "            coupling_coeffs = tf.tile(coupling_coeffs, [1, 1, 1, count2])\n",
    "            \n",
    "            #compute the input\n",
    "            drive = tf.reduce_sum(\n",
    "                      coupling_coeffs*prediction_vectors,\n",
    "                      axis=1\n",
    "                    )\n",
    "            \n",
    "            activation = squash(drive)\n",
    "            \n",
    "            \n",
    "            \n",
    "            \n",
    "            \n",
    "    \n",
    "    \n",
    "    \n",
    "    \n",
    "    \n",
    "    \n",
    "        \n",
    "    "
   ]
  }
 ],
 "metadata": {
  "kernelspec": {
   "display_name": "Python 3",
   "language": "python",
   "name": "python3"
  },
  "language_info": {
   "codemirror_mode": {
    "name": "ipython",
    "version": 3
   },
   "file_extension": ".py",
   "mimetype": "text/x-python",
   "name": "python",
   "nbconvert_exporter": "python",
   "pygments_lexer": "ipython3",
   "version": "3.6.0"
  }
 },
 "nbformat": 4,
 "nbformat_minor": 2
}
