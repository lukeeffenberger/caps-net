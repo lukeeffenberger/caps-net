{
 "cells": [
  {
   "cell_type": "code",
   "execution_count": 1,
   "metadata": {},
   "outputs": [
    {
     "name": "stderr",
     "output_type": "stream",
     "text": [
      "/home/luke/anaconda3/lib/python3.6/site-packages/h5py/__init__.py:36: FutureWarning: Conversion of the second argument of issubdtype from `float` to `np.floating` is deprecated. In future, it will be treated as `np.float64 == np.dtype(float).type`.\n",
      "  from ._conv import register_converters as _register_converters\n"
     ]
    }
   ],
   "source": [
    "import numpy as np\n",
    "import tensorflow as tf\n",
    "import os\n",
    "import struct\n",
    "import matplotlib.pyplot as plt\n",
    "from layers.capslayer import CapsLayer\n",
    "from layers.convcapslayer import ConvCapsLayer\n",
    "from layers.convlayer import ConvLayer\n",
    "from layers.denselayer import DenseLayer"
   ]
  },
  {
   "cell_type": "code",
   "execution_count": 2,
   "metadata": {},
   "outputs": [],
   "source": [
    "class MNIST():\n",
    "    def __init__(self, directory):\n",
    "        self._directory = directory\n",
    "        \n",
    "        self._training_data = self._load_binaries(\"./train-images.idx3-ubyte\")\n",
    "        self._training_labels = self._load_binaries(\"./train-labels.idx1-ubyte\")\n",
    "        self._test_data = self._load_binaries(\"./t10k-images.idx3-ubyte\")\n",
    "        self._test_labels = self._load_binaries(\"./t10k-labels.idx1-ubyte\")\n",
    "        \n",
    "        np.random.seed(0)\n",
    "        samples_n = self._training_labels.shape[0]\n",
    "        random_indices = np.random.choice(samples_n, samples_n // 10, replace = False)\n",
    "        np.random.seed()\n",
    "        \n",
    "        self._validation_data = self._training_data[random_indices]\n",
    "        self._validation_labels = self._training_labels[random_indices]\n",
    "        self._training_data = np.delete(self._training_data, random_indices, axis = 0)\n",
    "        self._training_labels = np.delete(self._training_labels, random_indices)\n",
    "    \n",
    "    def _load_binaries(self, file_name):\n",
    "        path = os.path.join(self._directory, file_name)\n",
    "        \n",
    "        with open(path, 'rb') as fd:\n",
    "            check, items_n = struct.unpack(\">ii\", fd.read(8))\n",
    "\n",
    "            if \"images\" in file_name and check == 2051:\n",
    "                height, width = struct.unpack(\">II\", fd.read(8))\n",
    "                images = np.fromfile(fd, dtype = 'uint8')\n",
    "                return np.reshape(images, (items_n, height, width))\n",
    "            elif \"labels\" in file_name and check == 2049:\n",
    "                return np.fromfile(fd, dtype = 'uint8')\n",
    "            else:\n",
    "                raise ValueError(\"Not a MNIST file: \" + path)\n",
    "    \n",
    "    \n",
    "    def get_training_batch(self, batch_size):\n",
    "        return self._get_batch(self._training_data, self._training_labels, batch_size)\n",
    "    \n",
    "    def get_validation_batch(self, batch_size):\n",
    "        return self._get_batch(self._validation_data, self._validation_labels, batch_size)\n",
    "    \n",
    "    def get_test_batch(self, batch_size):\n",
    "        return self._get_batch(self._test_data, self._test_labels, batch_size)\n",
    "    \n",
    "    def _get_batch(self, data, labels, batch_size):\n",
    "        samples_n = labels.shape[0]\n",
    "        if batch_size <= 0:\n",
    "            batch_size = samples_n\n",
    "        \n",
    "        random_indices = np.random.choice(samples_n, samples_n, replace = False)\n",
    "        data = data[random_indices]\n",
    "        labels = labels[random_indices]\n",
    "        for i in range(samples_n // batch_size):\n",
    "            on = i * batch_size\n",
    "            off = on + batch_size\n",
    "            yield data[on:off], labels[on:off]\n",
    "    \n",
    "    \n",
    "    def get_sizes(self):\n",
    "        training_samples_n = self._training_labels.shape[0]\n",
    "        validation_samples_n = self._validation_labels.shape[0]\n",
    "        test_samples_n = self._test_labels.shape[0]\n",
    "        return training_samples_n, validation_samples_n, test_samples_n"
   ]
  },
  {
   "cell_type": "code",
   "execution_count": 3,
   "metadata": {},
   "outputs": [],
   "source": [
    "#STORING THE DATA\n",
    "mnist_data = MNIST('./mnist_data/')"
   ]
  },
  {
   "cell_type": "code",
   "execution_count": 4,
   "metadata": {},
   "outputs": [
    {
     "name": "stdout",
     "output_type": "stream",
     "text": [
      "(54000, 6000, 10000)\n"
     ]
    }
   ],
   "source": [
    "#HYPERPARAMETERS\n",
    "\n",
    "#TRAINING PARAMS\n",
    "batch_size = 1\n",
    "print(mnist_data.get_sizes())\n"
   ]
  },
  {
   "cell_type": "code",
   "execution_count": 5,
   "metadata": {},
   "outputs": [],
   "source": [
    "def mask_and_flatten_digit_caps(digit_caps, labels):\n",
    "    \n",
    "    labels = tf.one_hot(labels, depth=10)\n",
    "    print(labels.get_shape())\n",
    "    labels = tf.expand_dims(labels, axis=-1)\n",
    "    print(labels.get_shape())\n",
    "    labels = tf.tile(labels, [1,1,16])\n",
    "    print(labels.get_shape())\n",
    "    masked_digit_caps = digit_caps * labels\n",
    "    print(masked_digit_caps.get_shape())\n",
    "    masked_and_flat = tf.reshape(masked_digit_caps, shape=[batch_size,10*16])\n",
    "    print(masked_and_flat)\n",
    "    return tf.reshape(masked_digit_caps, shape=[batch_size,10*16]) \n",
    "\n",
    "def calculate_loss_accuracy(digit_caps, labels):\n",
    "    \n",
    "    length_digit_caps = tf.norm(digit_caps, axis = 2)\n",
    "    labels_one_hot = tf.one_hot(labels, depth=10)\n",
    "    \n",
    "   \n",
    "    plus_loss =  labels_one_hot * tf.nn.relu(0.9 - length_digit_caps)\n",
    "    minus_loss = 0.5 * (1 - labels_one_hot) * \\\n",
    "                        tf.nn.relu(length_digit_caps - 0.1)\n",
    "    \n",
    "    loss = tf.reduce_sum(plus_loss + minus_loss, axis=-1)\n",
    "    loss = tf.reduce_mean(loss)\n",
    "    \n",
    "    correct_prediction = tf.equal(tf.argmax(length_digit_caps, 1), labels)\n",
    "    accuracy = tf.reduce_mean(tf.cast(correct_prediction, tf.float32))\n",
    "    \n",
    "    return loss, accuracy\n",
    "\n",
    "\n",
    "def calculate_reconstruction_loss(reconstructions, images):\n",
    "    \n",
    "    images = images/255.0\n",
    "    images_flatten = tf.reshape(images, shape=[batch_size, 784])\n",
    "    squared_error = tf.squared_difference(reconstructions, images_flatten)\n",
    "    sse = tf.reduce_sum(squared_error, axis=-1)\n",
    "    \n",
    "    return 0.0005 * tf.reduce_mean(sse)\n",
    "    "
   ]
  },
  {
   "cell_type": "code",
   "execution_count": 7,
   "metadata": {},
   "outputs": [
    {
     "name": "stdout",
     "output_type": "stream",
     "text": [
      "(1, 10)\n",
      "(1, 10, 1)\n",
      "(1, 10, 16)\n",
      "(?, 10, 16)\n",
      "Tensor(\"Reshape:0\", shape=(1, 160), dtype=float32)\n"
     ]
    }
   ],
   "source": [
    "#DESCIRBING THE DATAFLOW GRAPH\n",
    "\n",
    "tf.reset_default_graph()\n",
    "\n",
    "# define the placeholders\n",
    "images = tf.placeholder(dtype=tf.float32, shape=[batch_size, 28, 28])\n",
    "images_exp = tf.expand_dims(images, axis=-1)\n",
    "labels = tf.placeholder(dtype=tf.int64, shape=[batch_size])\n",
    "\n",
    "\n",
    "\n",
    "\n",
    "with tf.variable_scope('ReLU_Conv1'):\n",
    "    conv_layer = ConvLayer(\n",
    "                    kernel_size = 9,\n",
    "                    stride = 1,\n",
    "                    padding = 'VALID',\n",
    "                    channels = 256,\n",
    "                    activation_function = 'ReLU' \n",
    "                 )\n",
    "    conv = conv_layer(images_exp)\n",
    "\n",
    "    \n",
    "with tf.variable_scope('Primary_Caps'):\n",
    "    primary_caps_layer = ConvCapsLayer(\n",
    "                            kernel_size = 9,\n",
    "                            stride = 2,\n",
    "                            padding = 'VALID',\n",
    "                            dimension = 8,\n",
    "                            channels = 32,\n",
    "                        )\n",
    "    primary_caps = primary_caps_layer(conv)\n",
    "\n",
    "    \n",
    "with tf.variable_scope('Digit_Caps'):\n",
    "    digit_caps_layer = CapsLayer(\n",
    "                            count2 = 10,\n",
    "                            dim2 = 16,\n",
    "                            rout_iter = 3\n",
    "                        )\n",
    "    digit_caps = digit_caps_layer(primary_caps)\n",
    "\n",
    "\n",
    "\n",
    "\n",
    "with tf.variable_scope('Loss'):\n",
    "    loss, accuracy = calculate_loss_accuracy(digit_caps, labels)\n",
    "\n",
    "#RECONSTRUCTOR\n",
    "\n",
    "# introduce a placeholder to feed in other values\n",
    "digit_caps_placeholder = tf.placeholder_with_default(digit_caps, shape=[None, 10, 16])\n",
    "\n",
    "\n",
    "# flatten and mask the digit capsules\n",
    "digit_caps_flat = mask_and_flatten_digit_caps(digit_caps_placeholder,\n",
    "                                                labels\n",
    "                                                )\n",
    "\n",
    "\n",
    "\n",
    "\n",
    "with tf.variable_scope('Dense1'):\n",
    "    dense_1_layer = DenseLayer(\n",
    "                        n_out = 512,\n",
    "                        activation_function = 'ReLU'\n",
    "                    )\n",
    "    dense_1 = dense_1_layer(digit_caps_flat)\n",
    "    \n",
    "\n",
    "with tf.variable_scope('Dense2'):\n",
    "    dense_2_layer = DenseLayer(\n",
    "                        n_out = 1024,\n",
    "                        activation_function = 'ReLU'\n",
    "                    )\n",
    "    dense_2 = dense_2_layer(dense_1)\n",
    "\n",
    "    \n",
    "with tf.variable_scope('Dense3'):\n",
    "    dense_3_layer = DenseLayer(\n",
    "                        n_out = 28*28,\n",
    "                        activation_function = 'Sigmoid'\n",
    "                    )\n",
    "    dense_3 = dense_3_layer(dense_2)\n",
    "    reconstructions = tf.reshape(dense_3, shape=[batch_size, 28, 28])\n",
    "    \n",
    "    \n",
    "with tf.variable_scope('Reconstruction_Loss'):\n",
    "    reconstruction_loss = calculate_reconstruction_loss(dense_3, images)\n",
    "    \n",
    "\n",
    "with tf.variable_scope('Optimizer'):\n",
    "    optimizer = tf.train.AdamOptimizer()\n",
    "    training_step = optimizer.minimize(loss+reconstruction_loss)\n",
    "    \n",
    "    \n",
    "\n",
    "\n",
    "#SUMMARIES\n",
    "tf.summary.scalar('loss', loss)\n",
    "\n",
    "merged_summaries = tf.summary.merge_all()"
   ]
  },
  {
   "cell_type": "code",
   "execution_count": 13,
   "metadata": {
    "scrolled": false
   },
   "outputs": [
    {
     "name": "stdout",
     "output_type": "stream",
     "text": [
      "INFO:tensorflow:Restoring parameters from ./tmp/model.ckpt\n",
      "model restored\n",
      "INFO:tensorflow:Restoring parameters from ./tmp/model.ckpt\n",
      "model restored\n",
      "Dimension 1\n"
     ]
    },
    {
     "data": {
      "image/png": "[encoded data removed]",
      "text/plain": [
       "<matplotlib.figure.Figure at 0x7fdff8ef65c0>"
      ]
     },
     "metadata": {},
     "output_type": "display_data"
    },
    {
     "name": "stdout",
     "output_type": "stream",
     "text": [
      "Dimension 2\n"
     ]
    },
    {
     "data": {
      "image/png": "[encoded data removed]",
      "text/plain": [
       "<matplotlib.figure.Figure at 0x7fdfb9fb2390>"
      ]
     },
     "metadata": {},
     "output_type": "display_data"
    },
    {
     "name": "stdout",
     "output_type": "stream",
     "text": [
      "Dimension 3\n"
     ]
    },
    {
     "data": {
      "image/png": "[encoded data removed]",
      "text/plain": [
       "<matplotlib.figure.Figure at 0x7fdfb9f805c0>"
      ]
     },
     "metadata": {},
     "output_type": "display_data"
    },
    {
     "name": "stdout",
     "output_type": "stream",
     "text": [
      "Dimension 4\n"
     ]
    },
    {
     "data": {
      "image/png": "[encoded data removed]",
      "text/plain": [
       "<matplotlib.figure.Figure at 0x7fdfa161dbe0>"
      ]
     },
     "metadata": {},
     "output_type": "display_data"
    },
    {
     "name": "stdout",
     "output_type": "stream",
     "text": [
      "Dimension 5\n"
     ]
    },
    {
     "data": {
      "image/png": "[encoded data removed]",
      "text/plain": [
       "<matplotlib.figure.Figure at 0x7fdfa26be3c8>"
      ]
     },
     "metadata": {},
     "output_type": "display_data"
    },
    {
     "name": "stdout",
     "output_type": "stream",
     "text": [
      "Dimension 6\n"
     ]
    },
    {
     "data": {
      "image/png": "[encoded data removed]",
      "text/plain": [
       "<matplotlib.figure.Figure at 0x7fdf7eba5400>"
      ]
     },
     "metadata": {},
     "output_type": "display_data"
    },
    {
     "name": "stdout",
     "output_type": "stream",
     "text": [
      "Dimension 7\n"
     ]
    },
    {
     "data": {
      "image/png": "[encoded data removed]",
      "text/plain": [
       "<matplotlib.figure.Figure at 0x7fdf7f0f9f28>"
      ]
     },
     "metadata": {},
     "output_type": "display_data"
    },
    {
     "name": "stdout",
     "output_type": "stream",
     "text": [
      "Dimension 8\n"
     ]
    },
    {
     "data": {
      "image/png": "[encoded data removed]",
      "text/plain": [
       "<matplotlib.figure.Figure at 0x7fdf7f2cbb38>"
      ]
     },
     "metadata": {},
     "output_type": "display_data"
    },
    {
     "name": "stdout",
     "output_type": "stream",
     "text": [
      "Dimension 9\n"
     ]
    },
    {
     "data": {
      "image/png": "[encoded data removed]",
      "text/plain": [
       "<matplotlib.figure.Figure at 0x7fdf7f2191d0>"
      ]
     },
     "metadata": {},
     "output_type": "display_data"
    },
    {
     "name": "stdout",
     "output_type": "stream",
     "text": [
      "Dimension 10\n"
     ]
    },
    {
     "data": {
      "image/png": "[encoded data removed]",
      "text/plain": [
       "<matplotlib.figure.Figure at 0x7fdf7f196278>"
      ]
     },
     "metadata": {},
     "output_type": "display_data"
    },
    {
     "name": "stdout",
     "output_type": "stream",
     "text": [
      "Dimension 11\n"
     ]
    },
    {
     "data": {
      "image/png": "[encoded data removed]",
      "text/plain": [
       "<matplotlib.figure.Figure at 0x7fdf7eabaf60>"
      ]
     },
     "metadata": {},
     "output_type": "display_data"
    },
    {
     "name": "stdout",
     "output_type": "stream",
     "text": [
      "Dimension 12\n"
     ]
    },
    {
     "data": {
      "image/png": "[encoded data removed]",
      "text/plain": [
       "<matplotlib.figure.Figure at 0x7fdff8ff9630>"
      ]
     },
     "metadata": {},
     "output_type": "display_data"
    },
    {
     "name": "stdout",
     "output_type": "stream",
     "text": [
      "Dimension 13\n"
     ]
    },
    {
     "data": {
      "image/png": "[encoded data removed]",
      "text/plain": [
       "<matplotlib.figure.Figure at 0x7fdf7f130ba8>"
      ]
     },
     "metadata": {},
     "output_type": "display_data"
    },
    {
     "name": "stdout",
     "output_type": "stream",
     "text": [
      "Dimension 14\n"
     ]
    },
    {
     "data": {
      "image/png": "[encoded data removed]",
      "text/plain": [
       "<matplotlib.figure.Figure at 0x7fdf7f1c13c8>"
      ]
     },
     "metadata": {},
     "output_type": "display_data"
    },
    {
     "name": "stdout",
     "output_type": "stream",
     "text": [
      "Dimension 15\n"
     ]
    },
    {
     "data": {
      "image/png": "[encoded data removed]",
      "text/plain": [
       "<matplotlib.figure.Figure at 0x7fdfa07b7cf8>"
      ]
     },
     "metadata": {},
     "output_type": "display_data"
    },
    {
     "name": "stdout",
     "output_type": "stream",
     "text": [
      "Dimension 16\n"
     ]
    },
    {
     "data": {
      "image/png": "[encoded data removed]",
      "text/plain": [
       "<matplotlib.figure.Figure at 0x7fdfb9f3d1d0>"
      ]
     },
     "metadata": {},
     "output_type": "display_data"
    }
   ],
   "source": [
    "saver = tf.train.Saver()\n",
    "\n",
    "\n",
    "\n",
    "with tf.Session() as sess:\n",
    "    step = 0\n",
    "    #sess.run(tf.global_variables_initializer())\n",
    "    saver.restore(sess, \"./tmp/model.ckpt\")\n",
    "    print('model restored')\n",
    "    batch_generator = mnist_data.get_training_batch(1)\n",
    "\n",
    "    \n",
    "    \n",
    "    for x, y in batch_generator:\n",
    "        if step == 0:\n",
    "            dcs = sess.run([digit_caps],feed_dict = {images: x,\n",
    "                                                     labels: y})\n",
    "            #train_writer.add_summary(_summaries, step)\n",
    "            step += 1\n",
    "            img = x\n",
    "            lbl = y\n",
    "            '''\n",
    "            # for validation plot a image and its reconstruction\n",
    "            fig = plt.figure(figsize = (9,5))\n",
    "            fig.add_subplot(1,2,1)\n",
    "            plt.imshow(x[0], cmap='gray')\n",
    "            plt.title('Image')\n",
    "            fig.add_subplot(1,2,2)\n",
    "            plt.imshow(_rec[0], cmap='gray')\n",
    "            plt.title('Reconstruction')\n",
    "            plt.show()\n",
    "            '''\n",
    "        else:\n",
    "            break\n",
    "        \n",
    "    \n",
    "\n",
    "saver = tf.train.Saver()\n",
    "\n",
    "\n",
    "\n",
    "iterat = pertubate(dcs[0], lbl[0])\n",
    "\n",
    "\n",
    "with tf.Session() as sess:\n",
    "    step = 0\n",
    "    #sess.run(tf.global_variables_initializer())\n",
    "    saver.restore(sess, \"./tmp/model.ckpt\")\n",
    "    print('model restored')\n",
    "    #batch_generator = mnist_data.get_training_batch(1)\n",
    "    \n",
    "    iterat = [iterat[i:i+11] for i in range(0, len(iterat), 11)] \n",
    "    \n",
    "    for j,dim in enumerate(iterat):\n",
    "        print('Dimension {}'.format(j+1))\n",
    "        fig = plt.figure(figsize = (15,10))\n",
    "        \n",
    "        for i, delta in enumerate(dim):\n",
    "            \n",
    "            _rec = sess.run([reconstructions],feed_dict = {digit_caps_placeholder:delta,\n",
    "                                                                    labels: lbl})\n",
    "            fig.add_subplot(1,11,i+1)\n",
    "            plt.imshow(_rec[0][0], cmap='gray')\n",
    "            plt.axis('off')\n",
    "            \n",
    "            \n",
    "        plt.show()\n",
    "        \n",
    "        \n"
   ]
  },
  {
   "cell_type": "code",
   "execution_count": 9,
   "metadata": {},
   "outputs": [],
   "source": [
    "# pertubate the dimensions\n",
    "\n",
    "def pertubate(capsules, label):\n",
    "    \n",
    "    pertubated_caps = []\n",
    "    cs = np.copy(capsules)\n",
    "    for dim in range(16):\n",
    "        for delta in np.linspace(-0.25, 0.25, 11):\n",
    "            d = np.copy(cs)\n",
    "            d[0][label][dim] += delta\n",
    "            pertubated_caps.append(d)\n",
    "            \n",
    "    return pertubated_caps\n",
    "            \n",
    "            \n",
    "        "
   ]
  },
  {
   "cell_type": "code",
   "execution_count": null,
   "metadata": {
    "scrolled": false
   },
   "outputs": [],
   "source": [
    "\n",
    "        "
   ]
  },
  {
   "cell_type": "code",
   "execution_count": null,
   "metadata": {
    "collapsed": true
   },
   "outputs": [],
   "source": []
  }
 ],
 "metadata": {
  "kernelspec": {
   "display_name": "Python 3",
   "language": "python",
   "name": "python3"
  },
  "language_info": {
   "codemirror_mode": {
    "name": "ipython",
    "version": 3
   },
   "file_extension": ".py",
   "mimetype": "text/x-python",
   "name": "python",
   "nbconvert_exporter": "python",
   "pygments_lexer": "ipython3",
   "version": "3.6.4"
  }
 },
 "nbformat": 4,
 "nbformat_minor": 2
}
